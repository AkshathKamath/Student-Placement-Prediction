{
 "cells": [
  {
   "cell_type": "code",
   "execution_count": 1,
   "id": "85260814",
   "metadata": {},
   "outputs": [],
   "source": [
    "import pandas as pd\n",
    "import numpy as np\n",
    "import matplotlib.pyplot as plt\n",
    "import seaborn as sns\n",
    "%matplotlib inline"
   ]
  },
  {
   "cell_type": "code",
   "execution_count": 2,
   "id": "347170bc",
   "metadata": {},
   "outputs": [],
   "source": [
    "Clean_data=pd.read_csv('./Cleaned_dataset.csv')"
   ]
  },
  {
   "cell_type": "code",
   "execution_count": 3,
   "id": "464252cd",
   "metadata": {},
   "outputs": [],
   "source": [
    "Clean_data.drop('Unnamed: 0',axis=1,inplace=True)"
   ]
  },
  {
   "cell_type": "code",
   "execution_count": 4,
   "id": "b5115a84",
   "metadata": {},
   "outputs": [
    {
     "data": {
      "text/html": [
       "<div>\n",
       "<style scoped>\n",
       "    .dataframe tbody tr th:only-of-type {\n",
       "        vertical-align: middle;\n",
       "    }\n",
       "\n",
       "    .dataframe tbody tr th {\n",
       "        vertical-align: top;\n",
       "    }\n",
       "\n",
       "    .dataframe thead th {\n",
       "        text-align: right;\n",
       "    }\n",
       "</style>\n",
       "<table border=\"1\" class=\"dataframe\">\n",
       "  <thead>\n",
       "    <tr style=\"text-align: right;\">\n",
       "      <th></th>\n",
       "      <th>specialisation_Mkt&amp;HR</th>\n",
       "      <th>degree_t_Others</th>\n",
       "      <th>degree_t_Sci&amp;Tech</th>\n",
       "      <th>hsc_s_Commerce</th>\n",
       "      <th>hsc_s_Science</th>\n",
       "      <th>ssc_p</th>\n",
       "      <th>hsc_p</th>\n",
       "      <th>degree_p</th>\n",
       "      <th>etest_p</th>\n",
       "      <th>mba_p</th>\n",
       "      <th>salary</th>\n",
       "      <th>genderM</th>\n",
       "      <th>sscb</th>\n",
       "      <th>hscb</th>\n",
       "      <th>work_ex</th>\n",
       "      <th>status</th>\n",
       "    </tr>\n",
       "  </thead>\n",
       "  <tbody>\n",
       "    <tr>\n",
       "      <th>0</th>\n",
       "      <td>1</td>\n",
       "      <td>0</td>\n",
       "      <td>1</td>\n",
       "      <td>1</td>\n",
       "      <td>0</td>\n",
       "      <td>67.00</td>\n",
       "      <td>91.00</td>\n",
       "      <td>58.00</td>\n",
       "      <td>55.0</td>\n",
       "      <td>58.80</td>\n",
       "      <td>270000.0</td>\n",
       "      <td>1</td>\n",
       "      <td>1</td>\n",
       "      <td>1</td>\n",
       "      <td>1</td>\n",
       "      <td>1</td>\n",
       "    </tr>\n",
       "    <tr>\n",
       "      <th>1</th>\n",
       "      <td>0</td>\n",
       "      <td>0</td>\n",
       "      <td>1</td>\n",
       "      <td>0</td>\n",
       "      <td>1</td>\n",
       "      <td>79.33</td>\n",
       "      <td>78.33</td>\n",
       "      <td>77.48</td>\n",
       "      <td>86.5</td>\n",
       "      <td>66.28</td>\n",
       "      <td>200000.0</td>\n",
       "      <td>1</td>\n",
       "      <td>0</td>\n",
       "      <td>1</td>\n",
       "      <td>0</td>\n",
       "      <td>1</td>\n",
       "    </tr>\n",
       "    <tr>\n",
       "      <th>2</th>\n",
       "      <td>0</td>\n",
       "      <td>0</td>\n",
       "      <td>0</td>\n",
       "      <td>0</td>\n",
       "      <td>0</td>\n",
       "      <td>65.00</td>\n",
       "      <td>68.00</td>\n",
       "      <td>64.00</td>\n",
       "      <td>75.0</td>\n",
       "      <td>57.80</td>\n",
       "      <td>250000.0</td>\n",
       "      <td>1</td>\n",
       "      <td>0</td>\n",
       "      <td>0</td>\n",
       "      <td>0</td>\n",
       "      <td>1</td>\n",
       "    </tr>\n",
       "    <tr>\n",
       "      <th>3</th>\n",
       "      <td>1</td>\n",
       "      <td>0</td>\n",
       "      <td>1</td>\n",
       "      <td>0</td>\n",
       "      <td>1</td>\n",
       "      <td>56.00</td>\n",
       "      <td>52.00</td>\n",
       "      <td>52.00</td>\n",
       "      <td>66.0</td>\n",
       "      <td>59.43</td>\n",
       "      <td>NaN</td>\n",
       "      <td>1</td>\n",
       "      <td>0</td>\n",
       "      <td>0</td>\n",
       "      <td>0</td>\n",
       "      <td>0</td>\n",
       "    </tr>\n",
       "    <tr>\n",
       "      <th>4</th>\n",
       "      <td>0</td>\n",
       "      <td>0</td>\n",
       "      <td>0</td>\n",
       "      <td>1</td>\n",
       "      <td>0</td>\n",
       "      <td>85.80</td>\n",
       "      <td>73.60</td>\n",
       "      <td>73.30</td>\n",
       "      <td>96.8</td>\n",
       "      <td>55.50</td>\n",
       "      <td>425000.0</td>\n",
       "      <td>1</td>\n",
       "      <td>0</td>\n",
       "      <td>0</td>\n",
       "      <td>0</td>\n",
       "      <td>1</td>\n",
       "    </tr>\n",
       "  </tbody>\n",
       "</table>\n",
       "</div>"
      ],
      "text/plain": [
       "   specialisation_Mkt&HR  degree_t_Others  degree_t_Sci&Tech  hsc_s_Commerce  \\\n",
       "0                      1                0                  1               1   \n",
       "1                      0                0                  1               0   \n",
       "2                      0                0                  0               0   \n",
       "3                      1                0                  1               0   \n",
       "4                      0                0                  0               1   \n",
       "\n",
       "   hsc_s_Science  ssc_p  hsc_p  degree_p  etest_p  mba_p    salary  genderM  \\\n",
       "0              0  67.00  91.00     58.00     55.0  58.80  270000.0        1   \n",
       "1              1  79.33  78.33     77.48     86.5  66.28  200000.0        1   \n",
       "2              0  65.00  68.00     64.00     75.0  57.80  250000.0        1   \n",
       "3              1  56.00  52.00     52.00     66.0  59.43       NaN        1   \n",
       "4              0  85.80  73.60     73.30     96.8  55.50  425000.0        1   \n",
       "\n",
       "   sscb  hscb  work_ex  status  \n",
       "0     1     1        1       1  \n",
       "1     0     1        0       1  \n",
       "2     0     0        0       1  \n",
       "3     0     0        0       0  \n",
       "4     0     0        0       1  "
      ]
     },
     "execution_count": 4,
     "metadata": {},
     "output_type": "execute_result"
    }
   ],
   "source": [
    "Clean_data.head()"
   ]
  },
  {
   "cell_type": "code",
   "execution_count": 5,
   "id": "d48a513a",
   "metadata": {},
   "outputs": [],
   "source": [
    "X=Clean_data.iloc[:,:15]"
   ]
  },
  {
   "cell_type": "code",
   "execution_count": 6,
   "id": "d5478f96",
   "metadata": {},
   "outputs": [],
   "source": [
    "Y=Clean_data.iloc[:,15]"
   ]
  },
  {
   "cell_type": "code",
   "execution_count": 7,
   "id": "0305b0dc",
   "metadata": {},
   "outputs": [
    {
     "data": {
      "text/html": [
       "<div>\n",
       "<style scoped>\n",
       "    .dataframe tbody tr th:only-of-type {\n",
       "        vertical-align: middle;\n",
       "    }\n",
       "\n",
       "    .dataframe tbody tr th {\n",
       "        vertical-align: top;\n",
       "    }\n",
       "\n",
       "    .dataframe thead th {\n",
       "        text-align: right;\n",
       "    }\n",
       "</style>\n",
       "<table border=\"1\" class=\"dataframe\">\n",
       "  <thead>\n",
       "    <tr style=\"text-align: right;\">\n",
       "      <th></th>\n",
       "      <th>specialisation_Mkt&amp;HR</th>\n",
       "      <th>degree_t_Others</th>\n",
       "      <th>degree_t_Sci&amp;Tech</th>\n",
       "      <th>hsc_s_Commerce</th>\n",
       "      <th>hsc_s_Science</th>\n",
       "      <th>ssc_p</th>\n",
       "      <th>hsc_p</th>\n",
       "      <th>degree_p</th>\n",
       "      <th>etest_p</th>\n",
       "      <th>mba_p</th>\n",
       "      <th>salary</th>\n",
       "      <th>genderM</th>\n",
       "      <th>sscb</th>\n",
       "      <th>hscb</th>\n",
       "      <th>work_ex</th>\n",
       "    </tr>\n",
       "  </thead>\n",
       "  <tbody>\n",
       "    <tr>\n",
       "      <th>0</th>\n",
       "      <td>1</td>\n",
       "      <td>0</td>\n",
       "      <td>1</td>\n",
       "      <td>1</td>\n",
       "      <td>0</td>\n",
       "      <td>67.00</td>\n",
       "      <td>91.00</td>\n",
       "      <td>58.00</td>\n",
       "      <td>55.0</td>\n",
       "      <td>58.80</td>\n",
       "      <td>270000.0</td>\n",
       "      <td>1</td>\n",
       "      <td>1</td>\n",
       "      <td>1</td>\n",
       "      <td>1</td>\n",
       "    </tr>\n",
       "    <tr>\n",
       "      <th>1</th>\n",
       "      <td>0</td>\n",
       "      <td>0</td>\n",
       "      <td>1</td>\n",
       "      <td>0</td>\n",
       "      <td>1</td>\n",
       "      <td>79.33</td>\n",
       "      <td>78.33</td>\n",
       "      <td>77.48</td>\n",
       "      <td>86.5</td>\n",
       "      <td>66.28</td>\n",
       "      <td>200000.0</td>\n",
       "      <td>1</td>\n",
       "      <td>0</td>\n",
       "      <td>1</td>\n",
       "      <td>0</td>\n",
       "    </tr>\n",
       "    <tr>\n",
       "      <th>2</th>\n",
       "      <td>0</td>\n",
       "      <td>0</td>\n",
       "      <td>0</td>\n",
       "      <td>0</td>\n",
       "      <td>0</td>\n",
       "      <td>65.00</td>\n",
       "      <td>68.00</td>\n",
       "      <td>64.00</td>\n",
       "      <td>75.0</td>\n",
       "      <td>57.80</td>\n",
       "      <td>250000.0</td>\n",
       "      <td>1</td>\n",
       "      <td>0</td>\n",
       "      <td>0</td>\n",
       "      <td>0</td>\n",
       "    </tr>\n",
       "    <tr>\n",
       "      <th>3</th>\n",
       "      <td>1</td>\n",
       "      <td>0</td>\n",
       "      <td>1</td>\n",
       "      <td>0</td>\n",
       "      <td>1</td>\n",
       "      <td>56.00</td>\n",
       "      <td>52.00</td>\n",
       "      <td>52.00</td>\n",
       "      <td>66.0</td>\n",
       "      <td>59.43</td>\n",
       "      <td>NaN</td>\n",
       "      <td>1</td>\n",
       "      <td>0</td>\n",
       "      <td>0</td>\n",
       "      <td>0</td>\n",
       "    </tr>\n",
       "    <tr>\n",
       "      <th>4</th>\n",
       "      <td>0</td>\n",
       "      <td>0</td>\n",
       "      <td>0</td>\n",
       "      <td>1</td>\n",
       "      <td>0</td>\n",
       "      <td>85.80</td>\n",
       "      <td>73.60</td>\n",
       "      <td>73.30</td>\n",
       "      <td>96.8</td>\n",
       "      <td>55.50</td>\n",
       "      <td>425000.0</td>\n",
       "      <td>1</td>\n",
       "      <td>0</td>\n",
       "      <td>0</td>\n",
       "      <td>0</td>\n",
       "    </tr>\n",
       "  </tbody>\n",
       "</table>\n",
       "</div>"
      ],
      "text/plain": [
       "   specialisation_Mkt&HR  degree_t_Others  degree_t_Sci&Tech  hsc_s_Commerce  \\\n",
       "0                      1                0                  1               1   \n",
       "1                      0                0                  1               0   \n",
       "2                      0                0                  0               0   \n",
       "3                      1                0                  1               0   \n",
       "4                      0                0                  0               1   \n",
       "\n",
       "   hsc_s_Science  ssc_p  hsc_p  degree_p  etest_p  mba_p    salary  genderM  \\\n",
       "0              0  67.00  91.00     58.00     55.0  58.80  270000.0        1   \n",
       "1              1  79.33  78.33     77.48     86.5  66.28  200000.0        1   \n",
       "2              0  65.00  68.00     64.00     75.0  57.80  250000.0        1   \n",
       "3              1  56.00  52.00     52.00     66.0  59.43       NaN        1   \n",
       "4              0  85.80  73.60     73.30     96.8  55.50  425000.0        1   \n",
       "\n",
       "   sscb  hscb  work_ex  \n",
       "0     1     1        1  \n",
       "1     0     1        0  \n",
       "2     0     0        0  \n",
       "3     0     0        0  \n",
       "4     0     0        0  "
      ]
     },
     "execution_count": 7,
     "metadata": {},
     "output_type": "execute_result"
    }
   ],
   "source": [
    "X.head()"
   ]
  },
  {
   "cell_type": "code",
   "execution_count": 8,
   "id": "bfe42dcb",
   "metadata": {},
   "outputs": [
    {
     "data": {
      "text/plain": [
       "0    1\n",
       "1    1\n",
       "2    1\n",
       "3    0\n",
       "4    1\n",
       "Name: status, dtype: int64"
      ]
     },
     "execution_count": 8,
     "metadata": {},
     "output_type": "execute_result"
    }
   ],
   "source": [
    "Y.head()"
   ]
  },
  {
   "cell_type": "code",
   "execution_count": 9,
   "id": "8dd827a2",
   "metadata": {},
   "outputs": [],
   "source": [
    "salary=X['salary']\n",
    "X.drop('salary',axis=1,inplace=True)"
   ]
  },
  {
   "cell_type": "code",
   "execution_count": 10,
   "id": "59a95457",
   "metadata": {},
   "outputs": [
    {
     "data": {
      "text/plain": [
       "array([[ 1.  ,  0.  ,  1.  ,  1.  ,  0.  , 67.  , 91.  , 58.  , 55.  ,\n",
       "        58.8 ,  1.  ,  1.  ,  1.  ,  1.  ],\n",
       "       [ 0.  ,  0.  ,  1.  ,  0.  ,  1.  , 79.33, 78.33, 77.48, 86.5 ,\n",
       "        66.28,  1.  ,  0.  ,  1.  ,  0.  ],\n",
       "       [ 0.  ,  0.  ,  0.  ,  0.  ,  0.  , 65.  , 68.  , 64.  , 75.  ,\n",
       "        57.8 ,  1.  ,  0.  ,  0.  ,  0.  ],\n",
       "       [ 1.  ,  0.  ,  1.  ,  0.  ,  1.  , 56.  , 52.  , 52.  , 66.  ,\n",
       "        59.43,  1.  ,  0.  ,  0.  ,  0.  ],\n",
       "       [ 0.  ,  0.  ,  0.  ,  1.  ,  0.  , 85.8 , 73.6 , 73.3 , 96.8 ,\n",
       "        55.5 ,  1.  ,  0.  ,  0.  ,  0.  ]])"
      ]
     },
     "execution_count": 10,
     "metadata": {},
     "output_type": "execute_result"
    }
   ],
   "source": [
    "X=np.asarray(X)\n",
    "X[:5]"
   ]
  },
  {
   "cell_type": "code",
   "execution_count": 11,
   "id": "0af17706",
   "metadata": {},
   "outputs": [
    {
     "data": {
      "text/plain": [
       "array([1, 1, 1, 0, 1], dtype=int64)"
      ]
     },
     "execution_count": 11,
     "metadata": {},
     "output_type": "execute_result"
    }
   ],
   "source": [
    "Y=np.asarray(Y)\n",
    "Y[:5]"
   ]
  },
  {
   "cell_type": "code",
   "execution_count": 12,
   "id": "92fc21c2",
   "metadata": {},
   "outputs": [
    {
     "data": {
      "text/plain": [
       "array([[ 1.12390297, -0.23221018,  1.62605898,  0.95008151, -0.85666269,\n",
       "        -0.02808697,  2.2688123 , -1.14010225, -1.29109087, -0.59764672,\n",
       "         0.73943397,  1.08245885,  0.80076299,  1.08245885],\n",
       "       [-0.88975652, -0.23221018,  1.62605898, -1.05254128,  1.16732059,\n",
       "         1.11336869,  1.10344799,  1.51326671,  1.08715679,  0.6876202 ,\n",
       "         0.73943397, -0.92382264,  0.80076299, -0.92382264],\n",
       "       [-0.88975652, -0.23221018, -0.61498384, -1.05254128, -0.85666269,\n",
       "        -0.21323793,  0.15331275, -0.32284282,  0.21890765, -0.76947385,\n",
       "         0.73943397, -0.92382264, -1.24880896, -0.92382264],\n",
       "       [ 1.12390297, -0.23221018,  1.62605898, -1.05254128,  1.16732059,\n",
       "        -1.04641724, -1.3183391 , -1.95736168, -0.46059169, -0.48939563,\n",
       "         0.73943397, -0.92382264, -1.24880896, -0.92382264],\n",
       "       [-0.88975652, -0.23221018, -0.61498384,  0.95008151, -0.85666269,\n",
       "         1.71233203,  0.66839091,  0.9439093 ,  1.86480603, -1.16467625,\n",
       "         0.73943397, -0.92382264, -1.24880896, -0.92382264]])"
      ]
     },
     "execution_count": 12,
     "metadata": {},
     "output_type": "execute_result"
    }
   ],
   "source": [
    "from sklearn.preprocessing import StandardScaler\n",
    "sc = StandardScaler()\n",
    "X= sc.fit_transform(X)\n",
    "X[:5]"
   ]
  },
  {
   "cell_type": "code",
   "execution_count": 13,
   "id": "f25f33df",
   "metadata": {},
   "outputs": [],
   "source": [
    "from sklearn.model_selection import train_test_split\n",
    "x_train, x_test, y_train, y_test = train_test_split(X, Y, test_size=0.2, random_state=0)"
   ]
  },
  {
   "cell_type": "code",
   "execution_count": 14,
   "id": "c468d73c",
   "metadata": {},
   "outputs": [
    {
     "name": "stdout",
     "output_type": "stream",
     "text": [
      "(172, 14)\n",
      "(172,)\n",
      "(43, 14)\n",
      "(43,)\n"
     ]
    }
   ],
   "source": [
    "print(x_train.shape)\n",
    "print(y_train.shape)\n",
    "print(x_test.shape)\n",
    "print(y_test.shape)"
   ]
  },
  {
   "cell_type": "code",
   "execution_count": 15,
   "id": "c936897b",
   "metadata": {},
   "outputs": [],
   "source": [
    "from sklearn import metrics"
   ]
  },
  {
   "cell_type": "markdown",
   "id": "3c08574e",
   "metadata": {},
   "source": [
    "## SVM"
   ]
  },
  {
   "cell_type": "code",
   "execution_count": 16,
   "id": "e05c7287",
   "metadata": {},
   "outputs": [
    {
     "data": {
      "text/plain": [
       "SVC()"
      ]
     },
     "execution_count": 16,
     "metadata": {},
     "output_type": "execute_result"
    }
   ],
   "source": [
    "from sklearn import svm\n",
    "clf=svm.SVC()\n",
    "clf.fit(x_train, y_train)"
   ]
  },
  {
   "cell_type": "markdown",
   "id": "ca0962a4",
   "metadata": {},
   "source": [
    "##### Training Set accuracy"
   ]
  },
  {
   "cell_type": "code",
   "execution_count": 17,
   "id": "6281748f",
   "metadata": {},
   "outputs": [
    {
     "name": "stdout",
     "output_type": "stream",
     "text": [
      "0.9302325581395349\n"
     ]
    }
   ],
   "source": [
    "yhat_train=clf.predict(x_train)\n",
    "yhat_train_SVM=metrics.accuracy_score(y_train,yhat_train)\n",
    "print(metrics.accuracy_score(y_train,yhat_train))"
   ]
  },
  {
   "cell_type": "markdown",
   "id": "a9f28752",
   "metadata": {},
   "source": [
    "##### Test Set accuracy"
   ]
  },
  {
   "cell_type": "code",
   "execution_count": 18,
   "id": "0019823d",
   "metadata": {},
   "outputs": [
    {
     "data": {
      "text/plain": [
       "array([1, 1, 1, 0, 1], dtype=int64)"
      ]
     },
     "execution_count": 18,
     "metadata": {},
     "output_type": "execute_result"
    }
   ],
   "source": [
    "yhat_SVM=clf.predict(x_test)\n",
    "yhat_SVM[:5]"
   ]
  },
  {
   "cell_type": "code",
   "execution_count": 19,
   "id": "1b711604",
   "metadata": {},
   "outputs": [
    {
     "name": "stdout",
     "output_type": "stream",
     "text": [
      "0.6976744186046512\n"
     ]
    }
   ],
   "source": [
    "acc_SVM=metrics.accuracy_score(y_test,yhat_SVM)\n",
    "print(metrics.accuracy_score(y_test,yhat_SVM))"
   ]
  },
  {
   "cell_type": "code",
   "execution_count": 20,
   "id": "416005ec",
   "metadata": {},
   "outputs": [
    {
     "name": "stdout",
     "output_type": "stream",
     "text": [
      "[[ 6 10]\n",
      " [ 3 24]]\n",
      "0.7058823529411765\n",
      "0.8888888888888888\n",
      "0.7868852459016393\n"
     ]
    }
   ],
   "source": [
    "from sklearn.metrics import confusion_matrix\n",
    "from sklearn.metrics import precision_score, recall_score\n",
    "from sklearn.metrics import f1_score\n",
    "print(confusion_matrix(y_test, yhat_SVM))\n",
    "print(precision_score(y_test, yhat_SVM))\n",
    "pre_SVM=precision_score(y_test, yhat_SVM)\n",
    "print(recall_score(y_test, yhat_SVM))\n",
    "rec_SVM=recall_score(y_test, yhat_SVM)\n",
    "print(f1_score(y_test, yhat_SVM))\n",
    "f1_SVM=f1_score(y_test, yhat_SVM)"
   ]
  },
  {
   "cell_type": "markdown",
   "id": "efe6dc73",
   "metadata": {},
   "source": [
    "## Random Forest"
   ]
  },
  {
   "cell_type": "code",
   "execution_count": 92,
   "id": "48685edc",
   "metadata": {},
   "outputs": [
    {
     "data": {
      "text/plain": [
       "RandomForestClassifier(n_estimators=72)"
      ]
     },
     "execution_count": 92,
     "metadata": {},
     "output_type": "execute_result"
    }
   ],
   "source": [
    "from sklearn.ensemble import RandomForestClassifier\n",
    "rf = RandomForestClassifier(n_estimators=72)\n",
    "rf.fit(x_train, y_train)"
   ]
  },
  {
   "cell_type": "markdown",
   "id": "4f26e7a7",
   "metadata": {},
   "source": [
    "##### Training Set accuracy"
   ]
  },
  {
   "cell_type": "code",
   "execution_count": 26,
   "id": "93a0c1d0",
   "metadata": {},
   "outputs": [
    {
     "name": "stdout",
     "output_type": "stream",
     "text": [
      "1.0\n"
     ]
    }
   ],
   "source": [
    "yhat_train=rf.predict(x_train)\n",
    "yhat_train_RF=metrics.accuracy_score(y_train,yhat_train)\n",
    "print(metrics.accuracy_score(y_train,yhat_train))"
   ]
  },
  {
   "cell_type": "markdown",
   "id": "0e496ba1",
   "metadata": {},
   "source": [
    "##### Test Set accuracy"
   ]
  },
  {
   "cell_type": "code",
   "execution_count": 27,
   "id": "85f41c6a",
   "metadata": {},
   "outputs": [
    {
     "data": {
      "text/plain": [
       "array([1, 1, 1, 0, 1], dtype=int64)"
      ]
     },
     "execution_count": 27,
     "metadata": {},
     "output_type": "execute_result"
    }
   ],
   "source": [
    "yhat_RF=rf.predict(x_test)\n",
    "yhat_RF[:5]"
   ]
  },
  {
   "cell_type": "code",
   "execution_count": 28,
   "id": "349ed617",
   "metadata": {},
   "outputs": [
    {
     "name": "stdout",
     "output_type": "stream",
     "text": [
      "0.7441860465116279\n"
     ]
    }
   ],
   "source": [
    "acc_RF=metrics.accuracy_score(y_test,yhat_RF)\n",
    "print(metrics.accuracy_score(y_test,yhat_RF))"
   ]
  },
  {
   "cell_type": "code",
   "execution_count": 29,
   "id": "39ff09f2",
   "metadata": {},
   "outputs": [
    {
     "name": "stdout",
     "output_type": "stream",
     "text": [
      "[[ 8  8]\n",
      " [ 3 24]]\n",
      "0.75\n",
      "0.8888888888888888\n",
      "0.8135593220338982\n"
     ]
    }
   ],
   "source": [
    "from sklearn.metrics import confusion_matrix\n",
    "from sklearn.metrics import precision_score, recall_score\n",
    "from sklearn.metrics import f1_score\n",
    "print(confusion_matrix(y_test, yhat_RF))\n",
    "print(precision_score(y_test, yhat_RF))\n",
    "pre_RF=precision_score(y_test, yhat_RF)\n",
    "print(recall_score(y_test, yhat_RF))\n",
    "rec_RF=recall_score(y_test, yhat_RF)\n",
    "print(f1_score(y_test, yhat_RF))\n",
    "f1_RF=f1_score(y_test, yhat_RF)"
   ]
  },
  {
   "cell_type": "markdown",
   "id": "e03e0cc5",
   "metadata": {},
   "source": [
    "## Naive Bayes Classifier"
   ]
  },
  {
   "cell_type": "code",
   "execution_count": 30,
   "id": "1013d914",
   "metadata": {},
   "outputs": [
    {
     "data": {
      "text/plain": [
       "GaussianNB()"
      ]
     },
     "execution_count": 30,
     "metadata": {},
     "output_type": "execute_result"
    }
   ],
   "source": [
    "from sklearn.naive_bayes import GaussianNB\n",
    "nb = GaussianNB()\n",
    "nb.fit(x_train,y_train)"
   ]
  },
  {
   "cell_type": "markdown",
   "id": "a3def5b6",
   "metadata": {},
   "source": [
    "##### Training Set accuracy "
   ]
  },
  {
   "cell_type": "code",
   "execution_count": 31,
   "id": "a656c554",
   "metadata": {},
   "outputs": [
    {
     "name": "stdout",
     "output_type": "stream",
     "text": [
      "0.8546511627906976\n"
     ]
    }
   ],
   "source": [
    "yhat_train=nb.predict(x_train)\n",
    "yhat_train_NB=metrics.accuracy_score(y_train,yhat_train)\n",
    "print(metrics.accuracy_score(y_train,yhat_train))"
   ]
  },
  {
   "cell_type": "markdown",
   "id": "6b911d68",
   "metadata": {},
   "source": [
    "##### Test Set accuracy"
   ]
  },
  {
   "cell_type": "code",
   "execution_count": 32,
   "id": "dfbedc6f",
   "metadata": {},
   "outputs": [
    {
     "data": {
      "text/plain": [
       "array([0, 1, 1, 0, 1], dtype=int64)"
      ]
     },
     "execution_count": 32,
     "metadata": {},
     "output_type": "execute_result"
    }
   ],
   "source": [
    "yhat_NB=nb.predict(x_test)\n",
    "yhat_NB[:5]"
   ]
  },
  {
   "cell_type": "code",
   "execution_count": 33,
   "id": "cd7831fa",
   "metadata": {},
   "outputs": [
    {
     "name": "stdout",
     "output_type": "stream",
     "text": [
      "0.6976744186046512\n"
     ]
    }
   ],
   "source": [
    "acc_NB=metrics.accuracy_score(y_test,yhat_NB)\n",
    "print(metrics.accuracy_score(y_test,yhat_NB))"
   ]
  },
  {
   "cell_type": "code",
   "execution_count": 34,
   "id": "25364b72",
   "metadata": {},
   "outputs": [
    {
     "name": "stdout",
     "output_type": "stream",
     "text": [
      "[[ 9  7]\n",
      " [ 6 21]]\n",
      "0.75\n",
      "0.7777777777777778\n",
      "0.7636363636363638\n"
     ]
    }
   ],
   "source": [
    "from sklearn.metrics import confusion_matrix\n",
    "from sklearn.metrics import precision_score, recall_score\n",
    "from sklearn.metrics import f1_score\n",
    "print(confusion_matrix(y_test, yhat_NB))\n",
    "print(precision_score(y_test, yhat_NB))\n",
    "pre_NB=precision_score(y_test, yhat_NB)\n",
    "print(recall_score(y_test, yhat_NB))\n",
    "rec_NB=recall_score(y_test, yhat_NB)\n",
    "print(f1_score(y_test, yhat_NB))\n",
    "f1_NB=f1_score(y_test, yhat_NB)"
   ]
  },
  {
   "cell_type": "markdown",
   "id": "b30fc63b",
   "metadata": {},
   "source": [
    "## Logistic Regression"
   ]
  },
  {
   "cell_type": "code",
   "execution_count": 35,
   "id": "5a199e23",
   "metadata": {},
   "outputs": [
    {
     "data": {
      "text/plain": [
       "LogisticRegression(C=0.01, solver='liblinear')"
      ]
     },
     "execution_count": 35,
     "metadata": {},
     "output_type": "execute_result"
    }
   ],
   "source": [
    "from sklearn.linear_model import LogisticRegression\n",
    "lr = LogisticRegression(C=0.01, solver='liblinear')\n",
    "lr.fit(x_train,y_train)"
   ]
  },
  {
   "cell_type": "markdown",
   "id": "35feb5a6",
   "metadata": {},
   "source": [
    "##### Training Set accuracy"
   ]
  },
  {
   "cell_type": "code",
   "execution_count": 36,
   "id": "6817313b",
   "metadata": {},
   "outputs": [
    {
     "name": "stdout",
     "output_type": "stream",
     "text": [
      "0.877906976744186\n"
     ]
    }
   ],
   "source": [
    "yhat_train=lr.predict(x_train)\n",
    "yhat_train_LR=metrics.accuracy_score(y_train,yhat_train)\n",
    "print(metrics.accuracy_score(y_train,yhat_train))"
   ]
  },
  {
   "cell_type": "markdown",
   "id": "9a07c9c9",
   "metadata": {},
   "source": [
    "##### Test Set accuracy"
   ]
  },
  {
   "cell_type": "code",
   "execution_count": 37,
   "id": "988dca4e",
   "metadata": {},
   "outputs": [
    {
     "data": {
      "text/plain": [
       "array([0, 1, 1, 0, 1], dtype=int64)"
      ]
     },
     "execution_count": 37,
     "metadata": {},
     "output_type": "execute_result"
    }
   ],
   "source": [
    "yhat_LR=lr.predict(x_test)\n",
    "yhat_LR[:5]"
   ]
  },
  {
   "cell_type": "code",
   "execution_count": 38,
   "id": "f651085c",
   "metadata": {},
   "outputs": [
    {
     "name": "stdout",
     "output_type": "stream",
     "text": [
      "0.7674418604651163\n"
     ]
    }
   ],
   "source": [
    "acc_LR=metrics.accuracy_score(y_test,yhat_LR)\n",
    "print(metrics.accuracy_score(y_test,yhat_LR))"
   ]
  },
  {
   "cell_type": "code",
   "execution_count": 39,
   "id": "2f18074a",
   "metadata": {},
   "outputs": [
    {
     "name": "stdout",
     "output_type": "stream",
     "text": [
      "[[11  5]\n",
      " [ 5 22]]\n",
      "0.8148148148148148\n",
      "0.8148148148148148\n",
      "0.8148148148148148\n"
     ]
    }
   ],
   "source": [
    "from sklearn.metrics import confusion_matrix\n",
    "from sklearn.metrics import precision_score, recall_score\n",
    "from sklearn.metrics import f1_score\n",
    "print(confusion_matrix(y_test, yhat_LR))\n",
    "print(precision_score(y_test, yhat_LR))\n",
    "pre_LR=precision_score(y_test, yhat_LR)\n",
    "print(recall_score(y_test, yhat_LR))\n",
    "rec_LR=recall_score(y_test, yhat_LR)\n",
    "print(f1_score(y_test, yhat_LR))\n",
    "f1_LR=f1_score(y_test, yhat_LR)"
   ]
  },
  {
   "cell_type": "markdown",
   "id": "1a3a6f73",
   "metadata": {},
   "source": [
    "## KNN"
   ]
  },
  {
   "cell_type": "code",
   "execution_count": 40,
   "id": "c87874ac",
   "metadata": {},
   "outputs": [
    {
     "data": {
      "text/plain": [
       "KNeighborsClassifier(n_neighbors=3)"
      ]
     },
     "execution_count": 40,
     "metadata": {},
     "output_type": "execute_result"
    }
   ],
   "source": [
    "from sklearn.neighbors import KNeighborsClassifier\n",
    "KNN=KNeighborsClassifier(n_neighbors=3)\n",
    "KNN.fit(x_train,y_train)"
   ]
  },
  {
   "cell_type": "markdown",
   "id": "95b8707f",
   "metadata": {},
   "source": [
    "##### Training Set accuracy"
   ]
  },
  {
   "cell_type": "code",
   "execution_count": 41,
   "id": "b0d98c36",
   "metadata": {},
   "outputs": [
    {
     "name": "stdout",
     "output_type": "stream",
     "text": [
      "0.8895348837209303\n"
     ]
    }
   ],
   "source": [
    "yhat_train=KNN.predict(x_train)\n",
    "yhat_train_KNN=metrics.accuracy_score(y_train,yhat_train)\n",
    "print(metrics.accuracy_score(y_train,yhat_train))"
   ]
  },
  {
   "cell_type": "markdown",
   "id": "ab2dbe51",
   "metadata": {},
   "source": [
    "##### Test Set accuracy"
   ]
  },
  {
   "cell_type": "code",
   "execution_count": 42,
   "id": "d83c0ce0",
   "metadata": {},
   "outputs": [
    {
     "data": {
      "text/plain": [
       "array([1, 0, 1, 1, 1], dtype=int64)"
      ]
     },
     "execution_count": 42,
     "metadata": {},
     "output_type": "execute_result"
    }
   ],
   "source": [
    "yhat_KNN=KNN.predict(x_test)\n",
    "yhat_KNN[:5]"
   ]
  },
  {
   "cell_type": "code",
   "execution_count": 43,
   "id": "4d0ed115",
   "metadata": {},
   "outputs": [
    {
     "name": "stdout",
     "output_type": "stream",
     "text": [
      "0.6744186046511628\n"
     ]
    }
   ],
   "source": [
    "acc_KNN=metrics.accuracy_score(y_test,yhat_KNN)\n",
    "print(metrics.accuracy_score(y_test,yhat_KNN))"
   ]
  },
  {
   "cell_type": "code",
   "execution_count": 44,
   "id": "9f76da7c",
   "metadata": {},
   "outputs": [
    {
     "name": "stdout",
     "output_type": "stream",
     "text": [
      "[[ 3 13]\n",
      " [ 1 26]]\n",
      "0.6666666666666666\n",
      "0.9629629629629629\n",
      "0.7878787878787878\n"
     ]
    }
   ],
   "source": [
    "from sklearn.metrics import confusion_matrix\n",
    "from sklearn.metrics import precision_score, recall_score\n",
    "from sklearn.metrics import f1_score\n",
    "print(confusion_matrix(y_test, yhat_KNN))\n",
    "print(precision_score(y_test, yhat_KNN))\n",
    "pre_KNN=precision_score(y_test, yhat_KNN)\n",
    "print(recall_score(y_test, yhat_KNN))\n",
    "rec_KNN=recall_score(y_test, yhat_KNN)\n",
    "print(f1_score(y_test, yhat_KNN))\n",
    "f1_KNN=f1_score(y_test, yhat_KNN)"
   ]
  },
  {
   "cell_type": "markdown",
   "id": "98cad370",
   "metadata": {},
   "source": [
    "### Visualizing the algorithms results to select best"
   ]
  },
  {
   "cell_type": "code",
   "execution_count": 45,
   "id": "7d289ee4",
   "metadata": {},
   "outputs": [],
   "source": [
    "train_acc=[yhat_train_SVM*100,yhat_train_RF*100,yhat_train_NB*100,yhat_train_LR*100,yhat_train_KNN*100]\n",
    "x_list=['SVM','Random Forest','Naive Bayes','Logistic Regression','KNN']"
   ]
  },
  {
   "cell_type": "markdown",
   "id": "ae09493d",
   "metadata": {},
   "source": [
    "#### TRAINING SET ACCURACY"
   ]
  },
  {
   "cell_type": "code",
   "execution_count": 46,
   "id": "e20eaeff",
   "metadata": {},
   "outputs": [
    {
     "name": "stderr",
     "output_type": "stream",
     "text": [
      "C:\\Python39\\lib\\site-packages\\seaborn\\_decorators.py:36: FutureWarning: Pass the following variables as keyword args: x, y. From version 0.12, the only valid positional argument will be `data`, and passing other arguments without an explicit keyword will result in an error or misinterpretation.\n",
      "  warnings.warn(\n"
     ]
    },
    {
     "data": {
      "image/png": "[encoded data removed]",
      "text/plain": [
       "<Figure size 432x288 with 1 Axes>"
      ]
     },
     "metadata": {
      "needs_background": "light"
     },
     "output_type": "display_data"
    }
   ],
   "source": [
    "sns.barplot(x_list,train_acc)\n",
    "plt.show() "
   ]
  },
  {
   "cell_type": "code",
   "execution_count": 47,
   "id": "c31d8b49",
   "metadata": {},
   "outputs": [],
   "source": [
    "test_acc=[acc_SVM*100,acc_RF*100,acc_NB*100,acc_LR*100,acc_KNN*100]"
   ]
  },
  {
   "cell_type": "markdown",
   "id": "d937656e",
   "metadata": {},
   "source": [
    "#### TEST SET ACCURACY"
   ]
  },
  {
   "cell_type": "code",
   "execution_count": 48,
   "id": "3590ca5b",
   "metadata": {},
   "outputs": [
    {
     "name": "stderr",
     "output_type": "stream",
     "text": [
      "C:\\Python39\\lib\\site-packages\\seaborn\\_decorators.py:36: FutureWarning: Pass the following variables as keyword args: x, y. From version 0.12, the only valid positional argument will be `data`, and passing other arguments without an explicit keyword will result in an error or misinterpretation.\n",
      "  warnings.warn(\n"
     ]
    },
    {
     "data": {
      "image/png": "[encoded data removed]",
      "text/plain": [
       "<Figure size 432x288 with 1 Axes>"
      ]
     },
     "metadata": {
      "needs_background": "light"
     },
     "output_type": "display_data"
    }
   ],
   "source": [
    "sns.barplot(x_list,test_acc)\n",
    "plt.show() "
   ]
  },
  {
   "cell_type": "markdown",
   "id": "1d521138",
   "metadata": {},
   "source": [
    "#### F1 score"
   ]
  },
  {
   "cell_type": "code",
   "execution_count": 49,
   "id": "269b267a",
   "metadata": {},
   "outputs": [],
   "source": [
    "f1=[f1_SVM,f1_RF,f1_NB,f1_LR,f1_KNN]"
   ]
  },
  {
   "cell_type": "code",
   "execution_count": 50,
   "id": "f21d9e37",
   "metadata": {},
   "outputs": [
    {
     "name": "stderr",
     "output_type": "stream",
     "text": [
      "C:\\Python39\\lib\\site-packages\\seaborn\\_decorators.py:36: FutureWarning: Pass the following variables as keyword args: x, y. From version 0.12, the only valid positional argument will be `data`, and passing other arguments without an explicit keyword will result in an error or misinterpretation.\n",
      "  warnings.warn(\n"
     ]
    },
    {
     "data": {
      "image/png": "[encoded data removed]",
      "text/plain": [
       "<Figure size 432x288 with 1 Axes>"
      ]
     },
     "metadata": {
      "needs_background": "light"
     },
     "output_type": "display_data"
    }
   ],
   "source": [
    "sns.barplot(x_list,f1)\n",
    "plt.show() "
   ]
  },
  {
   "cell_type": "markdown",
   "id": "b213140e",
   "metadata": {},
   "source": [
    "###### From above comparisons, it is observed that the Random Forest Classifier is best for our dataset as it is having best accuracy on \n",
    "###### training data(100%) & also very high accuracy on test data(74.41%) & F1-score(0.8135)"
   ]
  },
  {
   "cell_type": "markdown",
   "id": "c6e2f3d5",
   "metadata": {},
   "source": [
    "### Parameter Optimize for RF classifier"
   ]
  },
  {
   "cell_type": "code",
   "execution_count": 52,
   "id": "14f32f5a",
   "metadata": {},
   "outputs": [
    {
     "data": {
      "text/plain": [
       "{'bootstrap': True,\n",
       " 'ccp_alpha': 0.0,\n",
       " 'class_weight': None,\n",
       " 'criterion': 'gini',\n",
       " 'max_depth': None,\n",
       " 'max_features': 'auto',\n",
       " 'max_leaf_nodes': None,\n",
       " 'max_samples': None,\n",
       " 'min_impurity_decrease': 0.0,\n",
       " 'min_impurity_split': None,\n",
       " 'min_samples_leaf': 1,\n",
       " 'min_samples_split': 2,\n",
       " 'min_weight_fraction_leaf': 0.0,\n",
       " 'n_estimators': 72,\n",
       " 'n_jobs': None,\n",
       " 'oob_score': False,\n",
       " 'random_state': None,\n",
       " 'verbose': 0,\n",
       " 'warm_start': False}"
      ]
     },
     "execution_count": 52,
     "metadata": {},
     "output_type": "execute_result"
    }
   ],
   "source": [
    "rf.get_params()"
   ]
  },
  {
   "cell_type": "code",
   "execution_count": 58,
   "id": "3d4aea0c",
   "metadata": {},
   "outputs": [],
   "source": [
    "from sklearn.model_selection import RandomizedSearchCV\n",
    "# Number of trees in random forest\n",
    "n_estimators = [int(x) for x in np.linspace(start = 72, stop = 2000, num = 10)]\n",
    "# Number of features to consider at every split\n",
    "max_features = ['auto', 'sqrt']\n",
    "# Maximum number of levels in tree\n",
    "max_depth = [int(x) for x in np.linspace(10, 110, num = 11)]\n",
    "max_depth.append(None)\n",
    "# Minimum number of samples required to split a node\n",
    "min_samples_split = [2, 5, 10]\n",
    "# Minimum number of samples required at each leaf node\n",
    "min_samples_leaf = [1, 2, 4]\n",
    "# Method of selecting samples for training each tree\n",
    "bootstrap = [True, False]"
   ]
  },
  {
   "cell_type": "code",
   "execution_count": 59,
   "id": "e36a766e",
   "metadata": {},
   "outputs": [
    {
     "name": "stdout",
     "output_type": "stream",
     "text": [
      "{'n_estimators': [72, 286, 500, 714, 928, 1143, 1357, 1571, 1785, 2000], 'max_features': ['auto', 'sqrt'], 'max_depth': [10, 20, 30, 40, 50, 60, 70, 80, 90, 100, 110, None], 'min_samples_split': [2, 5, 10], 'min_samples_leaf': [1, 2, 4], 'bootstrap': [True, False]}\n"
     ]
    }
   ],
   "source": [
    "random_grid = {'n_estimators': n_estimators,\n",
    "               'max_features': max_features,\n",
    "               'max_depth': max_depth,\n",
    "               'min_samples_split': min_samples_split,\n",
    "               'min_samples_leaf': min_samples_leaf,\n",
    "               'bootstrap': bootstrap}\n",
    "print(random_grid)"
   ]
  },
  {
   "cell_type": "code",
   "execution_count": 62,
   "id": "752bb1b6",
   "metadata": {},
   "outputs": [],
   "source": [
    "from sklearn.ensemble import RandomForestClassifier\n",
    "rf = RandomForestClassifier()\n",
    "# Use the random grid to search for best hyperparameters\n",
    "# First create the base model to tune\n",
    "rf = RandomForestRegressor()\n",
    "# Random search of parameters, using 3 fold cross validation, \n",
    "# search across 100 different combinations, and use all available cores\n",
    "rf_random = RandomizedSearchCV(estimator = rf, param_distributions = random_grid, n_iter = 100, cv = 3, verbose=2, random_state=42, n_jobs = -1)"
   ]
  },
  {
   "cell_type": "code",
   "execution_count": 63,
   "id": "d3e546e8",
   "metadata": {},
   "outputs": [
    {
     "name": "stdout",
     "output_type": "stream",
     "text": [
      "Fitting 3 folds for each of 100 candidates, totalling 300 fits\n"
     ]
    },
    {
     "data": {
      "text/plain": [
       "RandomizedSearchCV(cv=3, estimator=RandomForestRegressor(), n_iter=100,\n",
       "                   n_jobs=-1,\n",
       "                   param_distributions={'bootstrap': [True, False],\n",
       "                                        'max_depth': [10, 20, 30, 40, 50, 60,\n",
       "                                                      70, 80, 90, 100, 110,\n",
       "                                                      None],\n",
       "                                        'max_features': ['auto', 'sqrt'],\n",
       "                                        'min_samples_leaf': [1, 2, 4],\n",
       "                                        'min_samples_split': [2, 5, 10],\n",
       "                                        'n_estimators': [72, 286, 500, 714, 928,\n",
       "                                                         1143, 1357, 1571, 1785,\n",
       "                                                         2000]},\n",
       "                   random_state=42, verbose=2)"
      ]
     },
     "execution_count": 63,
     "metadata": {},
     "output_type": "execute_result"
    }
   ],
   "source": [
    "rf_random.fit(x_train, y_train)"
   ]
  },
  {
   "cell_type": "code",
   "execution_count": 64,
   "id": "06a18828",
   "metadata": {},
   "outputs": [
    {
     "data": {
      "text/plain": [
       "{'n_estimators': 72,\n",
       " 'min_samples_split': 5,\n",
       " 'min_samples_leaf': 4,\n",
       " 'max_features': 'auto',\n",
       " 'max_depth': 10,\n",
       " 'bootstrap': True}"
      ]
     },
     "execution_count": 64,
     "metadata": {},
     "output_type": "execute_result"
    }
   ],
   "source": [
    "rf_random.best_params_"
   ]
  },
  {
   "cell_type": "code",
   "execution_count": 88,
   "id": "15e845ea",
   "metadata": {},
   "outputs": [],
   "source": [
    "rf=RandomForestClassifier(n_estimators=200,\n",
    " min_samples_split=5,\n",
    " min_samples_leaf=4,\n",
    " max_features='auto',\n",
    " max_depth=20,\n",
    " bootstrap=True)"
   ]
  },
  {
   "cell_type": "code",
   "execution_count": 89,
   "id": "06e743ca",
   "metadata": {},
   "outputs": [
    {
     "data": {
      "text/plain": [
       "RandomForestClassifier(max_depth=20, min_samples_leaf=4, min_samples_split=5,\n",
       "                       n_estimators=200)"
      ]
     },
     "execution_count": 89,
     "metadata": {},
     "output_type": "execute_result"
    }
   ],
   "source": [
    "rf.fit(x_train,y_train)"
   ]
  },
  {
   "cell_type": "code",
   "execution_count": 90,
   "id": "eef9aef2",
   "metadata": {},
   "outputs": [
    {
     "data": {
      "text/plain": [
       "array([1, 1, 1, 0, 1], dtype=int64)"
      ]
     },
     "execution_count": 90,
     "metadata": {},
     "output_type": "execute_result"
    }
   ],
   "source": [
    "yhat_rf_ho=rf.predict(x_test)\n",
    "yhat_rf_ho[:5]"
   ]
  },
  {
   "cell_type": "code",
   "execution_count": 91,
   "id": "29264958",
   "metadata": {},
   "outputs": [
    {
     "name": "stdout",
     "output_type": "stream",
     "text": [
      "0.7209302325581395\n"
     ]
    }
   ],
   "source": [
    "print(metrics.accuracy_score(y_test,yhat_rf_ho))"
   ]
  },
  {
   "cell_type": "code",
   "execution_count": null,
   "id": "0ab703a8",
   "metadata": {},
   "outputs": [],
   "source": []
  }
 ],
 "metadata": {
  "kernelspec": {
   "display_name": "Python 3 (ipykernel)",
   "language": "python",
   "name": "python3"
  },
  "language_info": {
   "codemirror_mode": {
    "name": "ipython",
    "version": 3
   },
   "file_extension": ".py",
   "mimetype": "text/x-python",
   "name": "python",
   "nbconvert_exporter": "python",
   "pygments_lexer": "ipython3",
   "version": "3.9.6"
  }
 },
 "nbformat": 4,
 "nbformat_minor": 5
}
